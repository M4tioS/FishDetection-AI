{
 "cells": [
  {
   "cell_type": "code",
   "execution_count": 4,
   "metadata": {},
   "outputs": [
    {
     "name": "stderr",
     "output_type": "stream",
     "text": [
      "YOLOv5  v7.0-287-g574331f9 Python-3.10.13 torch-2.2.0+cpu CPU\n"
     ]
    },
    {
     "name": "stdout",
     "output_type": "stream",
     "text": [
      "Setup complete  (8 CPUs, 7.4 GB RAM, 135.5/475.8 GB disk)\n"
     ]
    }
   ],
   "source": [
    "!git clone https://github.com/ultralytics/yolov5\n",
    "%cd yolov5\n",
    "%pip install -qr requirements.txt comet_ml\n",
    "\n",
    "import torch\n",
    "import utils\n",
    "display = utils.notebook_init()"
   ]
  },
  {
   "cell_type": "code",
   "execution_count": 5,
   "metadata": {
    "colab": {
     "base_uri": "https://localhost:8080/"
    },
    "executionInfo": {
     "elapsed": 2617,
     "status": "ok",
     "timestamp": 1709196269068,
     "user": {
      "displayName": "Adam Postek",
      "userId": "05368068778384240850"
     },
     "user_tz": 0
    },
    "id": "5dYCBbDooVj8",
    "outputId": "8e983ee8-f7c9-412b-8745-28ec605ab8af"
   },
   "outputs": [
    {
     "name": "stdout",
     "output_type": "stream",
     "text": [
      "[WinError 2] The system cannot find the file specified: 'yolov5'\n",
      "C:\\Users\\bjkk3\\OneDrive\\Desktop\\FishClassification\\YOLO_Classification\\yolov5\n"
     ]
    }
   ],
   "source": [
    "%cd yolov5"
   ]
  },
  {
   "cell_type": "code",
   "execution_count": 2,
   "metadata": {
    "id": "eSOGNABDmrPe"
   },
   "outputs": [
    {
     "data": {
      "text/plain": [
       "'C:\\\\Users\\\\bjkk3\\\\OneDrive\\\\Desktop\\\\FishClassification\\\\YOLO_Classification'"
      ]
     },
     "execution_count": 2,
     "metadata": {},
     "output_type": "execute_result"
    }
   ],
   "source": [
    "pwd"
   ]
  },
  {
   "cell_type": "code",
   "execution_count": null,
   "metadata": {
    "id": "ltFlOyZ9gELB"
   },
   "outputs": [],
   "source": [
    "# Train YOLOv5s on COCO128 for 3 epochs\n",
    "!python train.py --img 640 --batch 16 --epochs 80 --data custom_data.yaml --weights yolov5s.pt --cache\n",
    "!python train.py --img 640 --batch 16 --epochs 80 --data custom_data.yaml --weights yolov5n.pt --cache"
   ]
  },
  {
   "cell_type": "markdown",
   "metadata": {
    "id": "sQy2dQskkiOx"
   },
   "source": [
    "- Exp 8 has weights for extra-large model\n",
    "- Exp 9 has weights for small model\n",
    "- Exp 10 has weights for nano model"
   ]
  },
  {
   "cell_type": "code",
   "execution_count": null,
   "metadata": {
    "id": "W5i-1uARu08P"
   },
   "outputs": [],
   "source": [
    "import cv2\n",
    "import torch\n",
    "import os\n",
    "\n",
    "# Correct paths to the model weights\n",
    "model_path_exp8 = '/content/drive/MyDrive/FishClassification/YOLOV5FishClassification/yolov5/runs/train/exp8/weights/best.pt'\n",
    "model_path_exp10 = '/content/drive/MyDrive/FishClassification/YOLOV5FishClassification/yolov5/runs/train/exp10/weights/best.pt'\n",
    "\n",
    "# Load the models\n",
    "xl_model = torch.hub.load('ultralytics/yolov5', 'custom', path=model_path_exp8, force_reload=True)\n",
    "nano_model = torch.hub.load('ultralytics/yolov5', 'custom', path=model_path_exp10, force_reload=True)\n",
    "\n",
    "# Directory containing videos\n",
    "videos_dir = '/content/drive/MyDrive/FishClassification/laxaleir2022_vid'\n",
    "\n",
    "# Directory to save confirmed frames\n",
    "save_dir = '/content/drive/MyDrive/FishClassification/confirmed_frames'\n",
    "if not os.path.exists(save_dir):\n",
    "    os.makedirs(save_dir)\n",
    "\n",
    "def process_video(video_path, nano_model, xl_model, save_dir):\n",
    "    cap = cv2.VideoCapture(video_path)\n",
    "    fish_detected = False\n",
    "\n",
    "    while cap.isOpened():\n",
    "        ret, frame = cap.read()\n",
    "        if not ret:\n",
    "            break\n",
    "\n",
    "        frame_rgb = cv2.cvtColor(frame, cv2.COLOR_BGR2RGB)  # Convert BGR to RGB\n",
    "\n",
    "        # Initial detection with nano model\n",
    "        results = nano_model(frame_rgb)\n",
    "\n",
    "        # Check for detections of class 0 (fish) specifically\n",
    "        for *xyxy, conf, cls in results.xyxy[0]:\n",
    "            if cls == 0:  # If a fish is detected\n",
    "                # Confirmation with the extra-large model\n",
    "                xl_results = xl_model(frame_rgb)\n",
    "\n",
    "                # Check for confirmations of class 0 (fish) specifically in the XL model results\n",
    "                for *xyxy, conf, cls in xl_results.xyxy[0]:\n",
    "                    if cls == 0:  # If a fish is confirmed\n",
    "                        fish_detected = True\n",
    "                        # Generate a filename for the saved frame\n",
    "                        frame_filename = f\"confirmed_fish_{os.path.basename(video_path).split('.')[0]}.jpg\"\n",
    "                        # Save the frame\n",
    "                        save_path = os.path.join(save_dir, frame_filename)\n",
    "                        cv2.imwrite(save_path, cv2.cvtColor(frame_rgb, cv2.COLOR_RGB2BGR))  # Convert RGB back to BGR for saving\n",
    "                        print(f\"Fish confirmed and frame saved to: {save_path}\")\n",
    "                        return fish_detected  # Stop after the first confirmation and save\n",
    "\n",
    "    cap.release()\n",
    "    return fish_detected\n",
    "\n",
    "# Process every 50th video in the directory\n",
    "video_files = sorted([f for f in os.listdir(videos_dir) if f.endswith('.mp4')])\n",
    "for i, video_file in enumerate(video_files):\n",
    "    if i % 50 == 0:  # process every 50th video file\n",
    "        video_path = os.path.join(videos_dir, video_file)\n",
    "        print(f\"Processing video: {video_path}\")\n",
    "        if process_video(video_path, nano_model, xl_model, save_dir):\n",
    "            print(f\"Fish detection confirmed in video: {video_path}\")\n",
    "        else:\n",
    "            print(f\"No fish detection confirmed in video: {video_path}\")\n"
   ]
  },
  {
   "cell_type": "code",
   "execution_count": null,
   "metadata": {
    "colab": {
     "base_uri": "https://localhost:8080/"
    },
    "executionInfo": {
     "elapsed": 41579,
     "status": "ok",
     "timestamp": 1708606286328,
     "user": {
      "displayName": "Dorian Konrad Michalski",
      "userId": "18060386106238791037"
     },
     "user_tz": 0
    },
    "id": "vuI9S1f03gBu",
    "outputId": "6ad5f4d7-483d-444f-f84f-eb63244cc1de"
   },
   "outputs": [
    {
     "name": "stdout",
     "output_type": "stream",
     "text": [
      "Processing video: /content/drive/MyDrive/FishClassification/laxaleir2022_vid/1.mp4\n",
      "No fish detection confirmed in video: /content/drive/MyDrive/FishClassification/laxaleir2022_vid/1.mp4\n",
      "Time taken for processing video 1.mp4: 4.51 seconds\n",
      "Processing video: /content/drive/MyDrive/FishClassification/laxaleir2022_vid/1057.mp4\n",
      "Fish confirmed and frame saved to: /content/drive/MyDrive/FishClassification/confirmed_frames/confirmed_fish_1057.jpg\n",
      "Fish detection confirmed in video: /content/drive/MyDrive/FishClassification/laxaleir2022_vid/1057.mp4\n",
      "Time taken for processing video 1057.mp4: 0.09 seconds\n",
      "Processing video: /content/drive/MyDrive/FishClassification/laxaleir2022_vid/1114.mp4\n",
      "Fish confirmed and frame saved to: /content/drive/MyDrive/FishClassification/confirmed_frames/confirmed_fish_1114.jpg\n",
      "Fish detection confirmed in video: /content/drive/MyDrive/FishClassification/laxaleir2022_vid/1114.mp4\n",
      "Time taken for processing video 1114.mp4: 0.09 seconds\n",
      "Processing video: /content/drive/MyDrive/FishClassification/laxaleir2022_vid/1175.mp4\n",
      "Fish confirmed and frame saved to: /content/drive/MyDrive/FishClassification/confirmed_frames/confirmed_fish_1175.jpg\n",
      "Fish detection confirmed in video: /content/drive/MyDrive/FishClassification/laxaleir2022_vid/1175.mp4\n",
      "Time taken for processing video 1175.mp4: 0.09 seconds\n",
      "Processing video: /content/drive/MyDrive/FishClassification/laxaleir2022_vid/1221.mp4\n",
      "Fish confirmed and frame saved to: /content/drive/MyDrive/FishClassification/confirmed_frames/confirmed_fish_1221.jpg\n",
      "Fish detection confirmed in video: /content/drive/MyDrive/FishClassification/laxaleir2022_vid/1221.mp4\n",
      "Time taken for processing video 1221.mp4: 0.08 seconds\n",
      "Processing video: /content/drive/MyDrive/FishClassification/laxaleir2022_vid/1269.mp4\n",
      "Fish confirmed and frame saved to: /content/drive/MyDrive/FishClassification/confirmed_frames/confirmed_fish_1269.jpg\n",
      "Fish detection confirmed in video: /content/drive/MyDrive/FishClassification/laxaleir2022_vid/1269.mp4\n",
      "Time taken for processing video 1269.mp4: 0.08 seconds\n",
      "Processing video: /content/drive/MyDrive/FishClassification/laxaleir2022_vid/1320.mp4\n",
      "Fish confirmed and frame saved to: /content/drive/MyDrive/FishClassification/confirmed_frames/confirmed_fish_1320.jpg\n",
      "Fish detection confirmed in video: /content/drive/MyDrive/FishClassification/laxaleir2022_vid/1320.mp4\n",
      "Time taken for processing video 1320.mp4: 0.08 seconds\n",
      "Processing video: /content/drive/MyDrive/FishClassification/laxaleir2022_vid/1369.mp4\n",
      "Fish confirmed and frame saved to: /content/drive/MyDrive/FishClassification/confirmed_frames/confirmed_fish_1369.jpg\n",
      "Fish detection confirmed in video: /content/drive/MyDrive/FishClassification/laxaleir2022_vid/1369.mp4\n",
      "Time taken for processing video 1369.mp4: 0.36 seconds\n",
      "Processing video: /content/drive/MyDrive/FishClassification/laxaleir2022_vid/1424.mp4\n",
      "Fish confirmed and frame saved to: /content/drive/MyDrive/FishClassification/confirmed_frames/confirmed_fish_1424.jpg\n",
      "Fish detection confirmed in video: /content/drive/MyDrive/FishClassification/laxaleir2022_vid/1424.mp4\n",
      "Time taken for processing video 1424.mp4: 2.94 seconds\n",
      "Processing video: /content/drive/MyDrive/FishClassification/laxaleir2022_vid/1472.mp4\n",
      "Fish confirmed and frame saved to: /content/drive/MyDrive/FishClassification/confirmed_frames/confirmed_fish_1472.jpg\n",
      "Fish detection confirmed in video: /content/drive/MyDrive/FishClassification/laxaleir2022_vid/1472.mp4\n",
      "Time taken for processing video 1472.mp4: 1.15 seconds\n",
      "Processing video: /content/drive/MyDrive/FishClassification/laxaleir2022_vid/1522.mp4\n",
      "Fish confirmed and frame saved to: /content/drive/MyDrive/FishClassification/confirmed_frames/confirmed_fish_1522.jpg\n",
      "Fish detection confirmed in video: /content/drive/MyDrive/FishClassification/laxaleir2022_vid/1522.mp4\n",
      "Time taken for processing video 1522.mp4: 0.07 seconds\n",
      "Processing video: /content/drive/MyDrive/FishClassification/laxaleir2022_vid/1570.mp4\n",
      "Fish confirmed and frame saved to: /content/drive/MyDrive/FishClassification/confirmed_frames/confirmed_fish_1570.jpg\n",
      "Fish detection confirmed in video: /content/drive/MyDrive/FishClassification/laxaleir2022_vid/1570.mp4\n",
      "Time taken for processing video 1570.mp4: 0.10 seconds\n",
      "Processing video: /content/drive/MyDrive/FishClassification/laxaleir2022_vid/1617.mp4\n",
      "Fish confirmed and frame saved to: /content/drive/MyDrive/FishClassification/confirmed_frames/confirmed_fish_1617.jpg\n",
      "Fish detection confirmed in video: /content/drive/MyDrive/FishClassification/laxaleir2022_vid/1617.mp4\n",
      "Time taken for processing video 1617.mp4: 0.44 seconds\n",
      "Processing video: /content/drive/MyDrive/FishClassification/laxaleir2022_vid/1666.mp4\n",
      "Fish confirmed and frame saved to: /content/drive/MyDrive/FishClassification/confirmed_frames/confirmed_fish_1666.jpg\n",
      "Fish detection confirmed in video: /content/drive/MyDrive/FishClassification/laxaleir2022_vid/1666.mp4\n",
      "Time taken for processing video 1666.mp4: 0.69 seconds\n",
      "Processing video: /content/drive/MyDrive/FishClassification/laxaleir2022_vid/1713.mp4\n",
      "No fish detection confirmed in video: /content/drive/MyDrive/FishClassification/laxaleir2022_vid/1713.mp4\n",
      "Time taken for processing video 1713.mp4: 3.52 seconds\n",
      "Processing video: /content/drive/MyDrive/FishClassification/laxaleir2022_vid/1768.mp4\n",
      "No fish detection confirmed in video: /content/drive/MyDrive/FishClassification/laxaleir2022_vid/1768.mp4\n",
      "Time taken for processing video 1768.mp4: 1.09 seconds\n",
      "Processing video: /content/drive/MyDrive/FishClassification/laxaleir2022_vid/1816.mp4\n",
      "No fish detection confirmed in video: /content/drive/MyDrive/FishClassification/laxaleir2022_vid/1816.mp4\n",
      "Time taken for processing video 1816.mp4: 2.34 seconds\n",
      "Processing video: /content/drive/MyDrive/FishClassification/laxaleir2022_vid/1867.mp4\n",
      "Fish confirmed and frame saved to: /content/drive/MyDrive/FishClassification/confirmed_frames/confirmed_fish_1867.jpg\n",
      "Fish detection confirmed in video: /content/drive/MyDrive/FishClassification/laxaleir2022_vid/1867.mp4\n",
      "Time taken for processing video 1867.mp4: 2.94 seconds\n",
      "Processing video: /content/drive/MyDrive/FishClassification/laxaleir2022_vid/1912.mp4\n",
      "No fish detection confirmed in video: /content/drive/MyDrive/FishClassification/laxaleir2022_vid/1912.mp4\n",
      "Time taken for processing video 1912.mp4: 13.12 seconds\n",
      "Processing video: /content/drive/MyDrive/FishClassification/laxaleir2022_vid/197.mp4\n",
      "Fish confirmed and frame saved to: /content/drive/MyDrive/FishClassification/confirmed_frames/confirmed_fish_197.jpg\n",
      "Fish detection confirmed in video: /content/drive/MyDrive/FishClassification/laxaleir2022_vid/197.mp4\n",
      "Time taken for processing video 197.mp4: 0.55 seconds\n",
      "Processing video: /content/drive/MyDrive/FishClassification/laxaleir2022_vid/241.mp4\n",
      "Fish confirmed and frame saved to: /content/drive/MyDrive/FishClassification/confirmed_frames/confirmed_fish_241.jpg\n",
      "Fish detection confirmed in video: /content/drive/MyDrive/FishClassification/laxaleir2022_vid/241.mp4\n",
      "Time taken for processing video 241.mp4: 0.45 seconds\n",
      "Processing video: /content/drive/MyDrive/FishClassification/laxaleir2022_vid/289.mp4\n",
      "Fish confirmed and frame saved to: /content/drive/MyDrive/FishClassification/confirmed_frames/confirmed_fish_289.jpg\n",
      "Fish detection confirmed in video: /content/drive/MyDrive/FishClassification/laxaleir2022_vid/289.mp4\n",
      "Time taken for processing video 289.mp4: 0.59 seconds\n",
      "Processing video: /content/drive/MyDrive/FishClassification/laxaleir2022_vid/336.mp4\n",
      "Fish confirmed and frame saved to: /content/drive/MyDrive/FishClassification/confirmed_frames/confirmed_fish_336.jpg\n",
      "Fish detection confirmed in video: /content/drive/MyDrive/FishClassification/laxaleir2022_vid/336.mp4\n",
      "Time taken for processing video 336.mp4: 0.09 seconds\n",
      "Processing video: /content/drive/MyDrive/FishClassification/laxaleir2022_vid/383.mp4\n",
      "Fish confirmed and frame saved to: /content/drive/MyDrive/FishClassification/confirmed_frames/confirmed_fish_383.jpg\n",
      "Fish detection confirmed in video: /content/drive/MyDrive/FishClassification/laxaleir2022_vid/383.mp4\n",
      "Time taken for processing video 383.mp4: 0.09 seconds\n",
      "Processing video: /content/drive/MyDrive/FishClassification/laxaleir2022_vid/429.mp4\n",
      "Fish confirmed and frame saved to: /content/drive/MyDrive/FishClassification/confirmed_frames/confirmed_fish_429.jpg\n",
      "Fish detection confirmed in video: /content/drive/MyDrive/FishClassification/laxaleir2022_vid/429.mp4\n",
      "Time taken for processing video 429.mp4: 0.64 seconds\n",
      "Processing video: /content/drive/MyDrive/FishClassification/laxaleir2022_vid/477.mp4\n",
      "Fish confirmed and frame saved to: /content/drive/MyDrive/FishClassification/confirmed_frames/confirmed_fish_477.jpg\n",
      "Fish detection confirmed in video: /content/drive/MyDrive/FishClassification/laxaleir2022_vid/477.mp4\n",
      "Time taken for processing video 477.mp4: 0.08 seconds\n",
      "Processing video: /content/drive/MyDrive/FishClassification/laxaleir2022_vid/527.mp4\n",
      "Fish confirmed and frame saved to: /content/drive/MyDrive/FishClassification/confirmed_frames/confirmed_fish_527.jpg\n",
      "Fish detection confirmed in video: /content/drive/MyDrive/FishClassification/laxaleir2022_vid/527.mp4\n",
      "Time taken for processing video 527.mp4: 0.08 seconds\n",
      "Processing video: /content/drive/MyDrive/FishClassification/laxaleir2022_vid/578.mp4\n",
      "Fish confirmed and frame saved to: /content/drive/MyDrive/FishClassification/confirmed_frames/confirmed_fish_578.jpg\n",
      "Fish detection confirmed in video: /content/drive/MyDrive/FishClassification/laxaleir2022_vid/578.mp4\n",
      "Time taken for processing video 578.mp4: 0.08 seconds\n",
      "Processing video: /content/drive/MyDrive/FishClassification/laxaleir2022_vid/626.mp4\n",
      "Fish confirmed and frame saved to: /content/drive/MyDrive/FishClassification/confirmed_frames/confirmed_fish_626.jpg\n",
      "Fish detection confirmed in video: /content/drive/MyDrive/FishClassification/laxaleir2022_vid/626.mp4\n",
      "Time taken for processing video 626.mp4: 0.08 seconds\n",
      "Processing video: /content/drive/MyDrive/FishClassification/laxaleir2022_vid/674.mp4\n",
      "Fish confirmed and frame saved to: /content/drive/MyDrive/FishClassification/confirmed_frames/confirmed_fish_674.jpg\n",
      "Fish detection confirmed in video: /content/drive/MyDrive/FishClassification/laxaleir2022_vid/674.mp4\n",
      "Time taken for processing video 674.mp4: 0.09 seconds\n",
      "Processing video: /content/drive/MyDrive/FishClassification/laxaleir2022_vid/725.mp4\n",
      "Fish confirmed and frame saved to: /content/drive/MyDrive/FishClassification/confirmed_frames/confirmed_fish_725.jpg\n",
      "Fish detection confirmed in video: /content/drive/MyDrive/FishClassification/laxaleir2022_vid/725.mp4\n",
      "Time taken for processing video 725.mp4: 0.09 seconds\n",
      "Processing video: /content/drive/MyDrive/FishClassification/laxaleir2022_vid/775.mp4\n",
      "Fish confirmed and frame saved to: /content/drive/MyDrive/FishClassification/confirmed_frames/confirmed_fish_775.jpg\n",
      "Fish detection confirmed in video: /content/drive/MyDrive/FishClassification/laxaleir2022_vid/775.mp4\n",
      "Time taken for processing video 775.mp4: 0.09 seconds\n",
      "Processing video: /content/drive/MyDrive/FishClassification/laxaleir2022_vid/823.mp4\n",
      "Fish confirmed and frame saved to: /content/drive/MyDrive/FishClassification/confirmed_frames/confirmed_fish_823.jpg\n",
      "Fish detection confirmed in video: /content/drive/MyDrive/FishClassification/laxaleir2022_vid/823.mp4\n",
      "Time taken for processing video 823.mp4: 0.07 seconds\n",
      "Processing video: /content/drive/MyDrive/FishClassification/laxaleir2022_vid/872.mp4\n",
      "Fish confirmed and frame saved to: /content/drive/MyDrive/FishClassification/confirmed_frames/confirmed_fish_872.jpg\n",
      "Fish detection confirmed in video: /content/drive/MyDrive/FishClassification/laxaleir2022_vid/872.mp4\n",
      "Time taken for processing video 872.mp4: 0.75 seconds\n",
      "Processing video: /content/drive/MyDrive/FishClassification/laxaleir2022_vid/918.mp4\n",
      "No fish detection confirmed in video: /content/drive/MyDrive/FishClassification/laxaleir2022_vid/918.mp4\n",
      "Time taken for processing video 918.mp4: 3.03 seconds\n",
      "Processing video: /content/drive/MyDrive/FishClassification/laxaleir2022_vid/963.mp4\n",
      "Fish confirmed and frame saved to: /content/drive/MyDrive/FishClassification/confirmed_frames/confirmed_fish_963.jpg\n",
      "Fish detection confirmed in video: /content/drive/MyDrive/FishClassification/laxaleir2022_vid/963.mp4\n",
      "Time taken for processing video 963.mp4: 0.61 seconds\n"
     ]
    }
   ],
   "source": [
    "import time\n",
    "\n",
    "def process_video(video_path, nano_model, xl_model, save_dir):\n",
    "    cap = cv2.VideoCapture(video_path)\n",
    "    fish_detected = False\n",
    "\n",
    "    while cap.isOpened():\n",
    "        ret, frame = cap.read()\n",
    "        if not ret:\n",
    "            break\n",
    "\n",
    "        frame_rgb = cv2.cvtColor(frame, cv2.COLOR_BGR2RGB)  # Convert BGR to RGB\n",
    "\n",
    "        # Initial detection with nano model\n",
    "        results = nano_model(frame_rgb)\n",
    "\n",
    "        # Check for detections of class 0 (fish) specifically\n",
    "        for *xyxy, conf, cls in results.xyxy[0]:\n",
    "            if cls == 0:  # If a fish is detected\n",
    "                # Confirmation with the extra-large model\n",
    "                xl_results = xl_model(frame_rgb)\n",
    "\n",
    "                # Check for confirmations of class 0 (fish) specifically in the XL model results\n",
    "                for *xyxy, conf, cls in xl_results.xyxy[0]:\n",
    "                    if cls == 0:  # If a fish is confirmed\n",
    "                        fish_detected = True\n",
    "                        frame_filename = f\"confirmed_fish_{os.path.basename(video_path).split('.')[0]}.jpg\"\n",
    "                        save_path = os.path.join(save_dir, frame_filename)\n",
    "                        cv2.imwrite(save_path, cv2.cvtColor(frame_rgb, cv2.COLOR_RGB2BGR))\n",
    "                        print(f\"Fish confirmed and frame saved to: {save_path}\")\n",
    "                        return fish_detected\n",
    "\n",
    "    cap.release()\n",
    "    return fish_detected\n",
    "\n",
    "# Process every 50th video and measure the time taken for each\n",
    "video_files = sorted([f for f in os.listdir(videos_dir) if f.endswith('.mp4')])\n",
    "for i, video_file in enumerate(video_files):\n",
    "    if i % 50 == 0:  # process every 50th video file\n",
    "        video_path = os.path.join(videos_dir, video_file)\n",
    "        print(f\"Processing video: {video_path}\")\n",
    "\n",
    "        start_time = time.time()  # Start the stopwatch before processing the video\n",
    "        if process_video(video_path, nano_model, xl_model, save_dir):\n",
    "            print(f\"Fish detection confirmed in video: {video_path}\")\n",
    "        else:\n",
    "            print(f\"No fish detection confirmed in video: {video_path}\")\n",
    "        end_time = time.time()  # Stop the stopwatch after processing the video\n",
    "\n",
    "        print(f\"Time taken for processing video {video_file}: {end_time - start_time:.2f} seconds\")\n"
   ]
  },
  {
   "cell_type": "code",
   "execution_count": null,
   "metadata": {
    "id": "4NbPRoLpqs1l"
   },
   "outputs": [],
   "source": [
    "!python detect.py --weights runs/train/exp8/weights/best.pt --img 640 --conf 0.25 --source ../43.mp4\n"
   ]
  },
  {
   "cell_type": "code",
   "execution_count": null,
   "metadata": {
    "colab": {
     "base_uri": "https://localhost:8080/"
    },
    "id": "zOZvZcm7GvE0",
    "outputId": "c0221645-94a3-491d-d331-a4106b1a85dc"
   },
   "outputs": [
    {
     "name": "stdout",
     "output_type": "stream",
     "text": [
      "\n",
      "Collecting usage statistics. To deactivate, set browser.gatherUsageStats to False.\n",
      "\u001b[0m\n",
      "\u001b[0m\n",
      "\u001b[34m\u001b[1m  You can now view your Streamlit app in your browser.\u001b[0m\n",
      "\u001b[0m\n",
      "\u001b[34m  Network URL: \u001b[0m\u001b[1mhttp://172.28.0.12:8501\u001b[0m\n",
      "\u001b[34m  External URL: \u001b[0m\u001b[1mhttp://35.225.183.233:8501\u001b[0m\n",
      "\u001b[0m\n"
     ]
    }
   ],
   "source": [
    "!streamlit run /usr/local/lib/python3.10/dist-packages/colab_kernel_launcher.py"
   ]
  },
  {
   "cell_type": "code",
   "execution_count": null,
   "metadata": {
    "id": "raHswrPjfU3K"
   },
   "outputs": [],
   "source": [
    "import os\n",
    "import cv2\n",
    "import torch\n",
    "import numpy as np\n",
    "from sklearn.metrics import precision_recall_fscore_support, confusion_matrix, cohen_kappa_score\n",
    "\n",
    "checkpoint_path = 'runs/train/exp8/weights/best.pt'\n",
    "model = torch.hub.load('ultralytics/yolov5', 'custom', path=checkpoint_path, force_reload=True)  # force_reload to ensure latest checkpoint is loaded\n",
    "\n",
    "videos_folder = '../test/'\n",
    "\n",
    "all_ground_truths = []  # This should be filled with actual ground truth data\n",
    "all_predictions = []\n",
    "\n",
    "for video_file in os.listdir(videos_folder):\n",
    "    if video_file.endswith('.mp4'):  # Ensure the file is an MP4 video\n",
    "        video_path = os.path.join(videos_folder, video_file)\n",
    "        cap = cv2.VideoCapture(video_path)\n",
    "\n",
    "        video_predictions = []  # Store predictions for each frame\n",
    "\n",
    "        while cap.isOpened():\n",
    "            ret, frame = cap.read()\n",
    "            if not ret:\n",
    "                break\n",
    "\n",
    "            # Inference\n",
    "            results = model(frame)\n",
    "\n",
    "            pred_labels = results.xyxy[0][:, -1].cpu().numpy()\n",
    "            pred_boxes = results.xyxy[0][:, :-1].cpu().numpy()\n",
    "            confidences = results.xyxy[0][:, 4].cpu().numpy()\n",
    "            prediction = int((confidences > 0.5).any())  # Assuming threshold of 0.5\n",
    "            video_predictions.append(prediction)\n",
    "\n",
    "        all_predictions.extend(video_predictions)\n",
    "        cap.release()\n",
    "\n",
    "all_ground_truths = [0,1,1,1,1,1,0,0,0,0,1,1,1,0]\n",
    "all_ground_truths = np.array(all_ground_truths)\n",
    "all_predictions = np.array(all_predictions)\n",
    "\n",
    "precision, recall, f1_score,  = precision_recall_fscore_support(all_ground_truths, all_predictions, average='binary')\n",
    "accuracy = np.mean(all_ground_truths == all_predictions)\n",
    "conf_matrix = confusion_matrix(all_ground_truths, all_predictions)\n",
    "kappa_score = cohen_kappa_score(all_ground_truths, all_predictions)\n",
    "\n",
    "print(f'Precision: {precision}')\n",
    "print(f'Recall: {recall}')\n",
    "print(f'F1 Score: {f1_score}')\n",
    "print(f'Accuracy: {accuracy}')\n",
    "print(f'Confusion Matrix:\\n{conf_matrix}')\n",
    "print(f'Cohens Kappa: {kappa_score}')"
   ]
  },
  {
   "cell_type": "code",
   "execution_count": null,
   "metadata": {
    "colab": {
     "base_uri": "https://localhost:8080/"
    },
    "executionInfo": {
     "elapsed": 15019,
     "status": "ok",
     "timestamp": 1709196604875,
     "user": {
      "displayName": "Adam Postek",
      "userId": "05368068778384240850"
     },
     "user_tz": 0
    },
    "id": "mVvjAhtINk-w",
    "outputId": "b9619942-03a5-46c9-899a-17bc3f9ab182"
   },
   "outputs": [
    {
     "name": "stderr",
     "output_type": "stream",
     "text": [
      "Downloading: \"https://github.com/ultralytics/yolov5/zipball/master\" to /root/.cache/torch/hub/master.zip\n",
      "YOLOv5 🚀 v7.0-284-g95ebf68f Python-3.10.12 torch-2.1.0+cu121 CUDA:0 (Tesla T4, 15102MiB)\n",
      "\n",
      "Fusing layers... \n",
      "Model summary: 322 layers, 86180143 parameters, 0 gradients, 203.8 GFLOPs\n",
      "Adding AutoShape... \n",
      "Downloading: \"https://github.com/ultralytics/yolov5/zipball/master\" to /root/.cache/torch/hub/master.zip\n",
      "YOLOv5 🚀 v7.0-284-g95ebf68f Python-3.10.12 torch-2.1.0+cu121 CUDA:0 (Tesla T4, 15102MiB)\n",
      "\n",
      "Fusing layers... \n",
      "Model summary: 157 layers, 1761871 parameters, 0 gradients, 4.1 GFLOPs\n",
      "Adding AutoShape... \n",
      "2024-02-29 08:50:04.644 \n",
      "  \u001b[33m\u001b[1mWarning:\u001b[0m to view this Streamlit app on a browser, run it with the following\n",
      "  command:\n",
      "\n",
      "    streamlit run /usr/local/lib/python3.10/dist-packages/colab_kernel_launcher.py [ARGUMENTS]\n"
     ]
    }
   ],
   "source": [
    "import streamlit as st\n",
    "import cv2\n",
    "import numpy as np\n",
    "import os\n",
    "import torch\n",
    "\n",
    "\n",
    "model_path_exp8 = '/content/drive/Othercomputers/My Computer/FishClassification/YOLOV5FishClassification/yolov5/runs/train/exp8/weights/best.pt'\n",
    "model_path_exp10 = '/content/drive/Othercomputers/My Computer/FishClassification/YOLOV5FishClassification/yolov5/runs/train/exp10/weights/best.pt'\n",
    "\n",
    "# Load the models\n",
    "xl_model = torch.hub.load('ultralytics/yolov5', 'custom', path=model_path_exp8, force_reload=True)\n",
    "nano_model = torch.hub.load('ultralytics/yolov5', 'custom', path=model_path_exp10, force_reload=True)\n",
    "\n",
    "# Function to process video and detect fish\n",
    "def process_video(video_file, nano_model, xl_model, save_dir):\n",
    "    cap = cv2.VideoCapture(video_file)\n",
    "    frame_number = 0\n",
    "\n",
    "    while cap.isOpened():\n",
    "        ret, frame = cap.read()\n",
    "        if not ret:\n",
    "            break\n",
    "\n",
    "        frame_rgb = cv2.cvtColor(frame, cv2.COLOR_BGR2RGB)  # Convert BGR to RGB\n",
    "\n",
    "        # Initial detection with nano model\n",
    "        results = nano_model(frame_rgb)\n",
    "\n",
    "        # Check for detections of class 0 (fish) specifically\n",
    "        for *xyxy, conf, cls in results.xyxy[0]:\n",
    "            if cls == 0:  # If a fish is detected\n",
    "                # Confirmation with the extra-large model\n",
    "                xl_results = xl_model(frame_rgb)\n",
    "\n",
    "                # Check for confirmations of class 0 (fish) specifically in the XL model results\n",
    "                for *xyxy, conf, cls in xl_results.xyxy[0]:\n",
    "                    if cls == 0:  # If a fish is confirmed\n",
    "                        # Save the frame\n",
    "                        frame_filename = f\"confirmed_fish_frame_{frame_number}.jpg\"\n",
    "                        save_path = os.path.join(save_dir, frame_filename)\n",
    "                        cv2.imwrite(save_path, cv2.cvtColor(frame_rgb, cv2.COLOR_RGB2BGR))  # Convert RGB back to BGR for saving\n",
    "                        return True, frame_number  # Return True if fish is found and frame number\n",
    "        frame_number += 1\n",
    "\n",
    "    cap.release()\n",
    "    return False, None\n",
    "\n",
    "# Main function to run the Streamlit web app\n",
    "def main():\n",
    "    st.title(\"Fish Detection Web App\")\n",
    "\n",
    "    # Sidebar for uploading video\n",
    "    uploaded_file = st.sidebar.file_uploader(\"Upload video file\", type=[\"mp4\", \"avi\"])\n",
    "\n",
    "    if uploaded_file is not None:\n",
    "        st.sidebar.write(\"Uploaded video:\")\n",
    "        st.sidebar.video(uploaded_file)\n",
    "\n",
    "        # Button to start processing\n",
    "        if st.sidebar.button(\"Start Processing\"):\n",
    "            save_dir = \"confirmed_frames\"\n",
    "            if not os.path.exists(save_dir):\n",
    "                os.makedirs(save_dir)\n",
    "\n",
    "            # Process video and detect fish\n",
    "            fish_detected, frame_number = process_video(uploaded_file, nano_model, xl_model, save_dir)\n",
    "\n",
    "            if fish_detected:\n",
    "                st.subheader(\"Fish Detected!\")\n",
    "                st.write(f\"Fish was detected in frame number: {frame_number}\")\n",
    "                st.image(os.path.join(save_dir, f\"confirmed_fish_frame_{frame_number}.jpg\"))\n",
    "            else:\n",
    "                st.subheader(\"Fish Not Detected :(\")\n",
    "\n",
    "if __name__ == \"__main__\":\n",
    "    main()\n"
   ]
  }
 ],
 "metadata": {
  "accelerator": "GPU",
  "colab": {
   "gpuType": "T4",
   "machine_shape": "hm",
   "provenance": []
  },
  "kernelspec": {
   "display_name": "Python 3 (ipykernel)",
   "language": "python",
   "name": "python3"
  },
  "language_info": {
   "codemirror_mode": {
    "name": "ipython",
    "version": 3
   },
   "file_extension": ".py",
   "mimetype": "text/x-python",
   "name": "python",
   "nbconvert_exporter": "python",
   "pygments_lexer": "ipython3",
   "version": "3.10.13"
  }
 },
 "nbformat": 4,
 "nbformat_minor": 4
}
